{
 "cells": [
  {
   "cell_type": "markdown",
   "id": "6d6d5512-edd6-40a1-a0a4-c955a4f63f89",
   "metadata": {},
   "source": [
    "# Explorando 8EF5"
   ]
  },
  {
   "cell_type": "code",
   "execution_count": 1,
   "id": "557d4a40-34d4-4be7-bfca-6acf0074e250",
   "metadata": {},
   "outputs": [],
   "source": [
    "import mdtraj as md"
   ]
  },
  {
   "cell_type": "code",
   "execution_count": 2,
   "id": "be12e7e6-f1f2-4600-9f2c-116ee458d2e6",
   "metadata": {},
   "outputs": [
    {
     "data": {
      "application/vnd.jupyter.widget-view+json": {
       "model_id": "f99560841cba40a2b5ca8cf324dbfd0a",
       "version_major": 2,
       "version_minor": 0
      },
      "text/plain": []
     },
     "metadata": {},
     "output_type": "display_data"
    }
   ],
   "source": [
    "import nglview as nv"
   ]
  },
  {
   "cell_type": "code",
   "execution_count": 3,
   "id": "4aee1ed8-4bba-486a-b6f9-930a09ae2ca1",
   "metadata": {},
   "outputs": [
    {
     "name": "stderr",
     "output_type": "stream",
     "text": [
      "/home/diego/Myopt/miniconda3/envs/uOR@uibcdf_3.10/lib/python3.10/site-packages/mdtraj/formats/pdb/pdbfile.py:200: UserWarning: Unlikely unit cell vectors detected in PDB file likely resulting from a dummy CRYST1 record. Discarding unit cell vectors.\n",
      "  warnings.warn('Unlikely unit cell vectors detected in PDB file likely '\n"
     ]
    }
   ],
   "source": [
    "system = md.load('8EF5.pdb')"
   ]
  },
  {
   "cell_type": "code",
   "execution_count": 5,
   "id": "c162e169-375f-4883-b05f-2010c0e0fd68",
   "metadata": {},
   "outputs": [
    {
     "data": {
      "application/vnd.jupyter.widget-view+json": {
       "model_id": "eb7e12b546ea44d8b37d801e47e4e6a7",
       "version_major": 2,
       "version_minor": 0
      },
      "text/plain": [
       "NGLWidget()"
      ]
     },
     "metadata": {},
     "output_type": "display_data"
    }
   ],
   "source": [
    "view = nv.show_mdtraj(system)\n",
    "view"
   ]
  },
  {
   "cell_type": "code",
   "execution_count": 6,
   "id": "2e9c7283-ce2c-4209-a2ef-09aa2a81de06",
   "metadata": {},
   "outputs": [
    {
     "name": "stdout",
     "output_type": "stream",
     "text": [
      "Help on method atom_slice in module mdtraj.core.trajectory:\n",
      "\n",
      "atom_slice(atom_indices, inplace=False) method of mdtraj.core.trajectory.Trajectory instance\n",
      "    Create a new trajectory from a subset of atoms\n",
      "    \n",
      "    Parameters\n",
      "    ----------\n",
      "    atom_indices : array-like, dtype=int, shape=(n_atoms)\n",
      "        List of indices of atoms to retain in the new trajectory.\n",
      "    inplace : bool, default=False\n",
      "        If ``True``, the operation is done inplace, modifying ``self``.\n",
      "        Otherwise, a copy is returned with the sliced atoms, and\n",
      "        ``self`` is not modified.\n",
      "    \n",
      "    Returns\n",
      "    -------\n",
      "    traj : md.Trajectory\n",
      "        The return value is either ``self``, or the new trajectory,\n",
      "        depending on the value of ``inplace``.\n",
      "    \n",
      "    See Also\n",
      "    --------\n",
      "    stack : stack multiple trajectories along the atom axis\n",
      "\n"
     ]
    }
   ],
   "source": [
    "help(system.atom_slice)"
   ]
  },
  {
   "cell_type": "code",
   "execution_count": 9,
   "id": "1db0e07d-1555-491b-85f3-62a6cc8219d3",
   "metadata": {},
   "outputs": [
    {
     "data": {
      "text/plain": [
       "array([   0,    1,    2, ..., 2306, 2307, 2308])"
      ]
     },
     "execution_count": 9,
     "metadata": {},
     "output_type": "execute_result"
    }
   ],
   "source": [
    "system.top.select('chainid 0')"
   ]
  },
  {
   "cell_type": "code",
   "execution_count": 23,
   "id": "35316d2f-dd8d-4887-9714-6956d6f9b1fb",
   "metadata": {},
   "outputs": [],
   "source": [
    "lista_uOR = system.top.select('chainid 0')"
   ]
  },
  {
   "cell_type": "code",
   "execution_count": 24,
   "id": "3142234a-2133-4d84-a0b4-f41c344a9f65",
   "metadata": {},
   "outputs": [],
   "source": [
    "for residue in system.top.residues:\n",
    "    if residue.name=='7V7':\n",
    "        if residue.chain.chain_id == 'R':\n",
    "            lista_R = []\n",
    "            for atom in residue.atoms:\n",
    "                lista_R.append(atom.index)"
   ]
  },
  {
   "cell_type": "code",
   "execution_count": 28,
   "id": "981a4c39-c3fb-4a39-9a09-519159466aa1",
   "metadata": {},
   "outputs": [],
   "source": [
    "atoms_selection = list(lista_uOR) + lista_R"
   ]
  },
  {
   "cell_type": "code",
   "execution_count": 31,
   "id": "18e2c9d6-4c6b-4785-8a90-93c96617305b",
   "metadata": {},
   "outputs": [],
   "source": [
    "final_system = system.atom_slice(atoms_selection)"
   ]
  },
  {
   "cell_type": "code",
   "execution_count": 32,
   "id": "a3608a2c-17d3-4329-aa70-67e57458e082",
   "metadata": {},
   "outputs": [
    {
     "data": {
      "application/vnd.jupyter.widget-view+json": {
       "model_id": "f276b1687361475683cf214ee714690c",
       "version_major": 2,
       "version_minor": 0
      },
      "text/plain": [
       "NGLWidget()"
      ]
     },
     "metadata": {},
     "output_type": "display_data"
    }
   ],
   "source": [
    "nv.show_mdtraj(final_system)"
   ]
  },
  {
   "cell_type": "code",
   "execution_count": 33,
   "id": "e7ce0c19-0b4c-4c10-9555-5beb01449a92",
   "metadata": {},
   "outputs": [],
   "source": [
    "final_system.save_pdb('uOR_7V7.pdb')"
   ]
  },
  {
   "cell_type": "code",
   "execution_count": null,
   "id": "fcdadd7c-73b2-41df-a557-40cac2cf108a",
   "metadata": {},
   "outputs": [],
   "source": []
  }
 ],
 "metadata": {
  "kernelspec": {
   "display_name": "Python 3 (ipykernel)",
   "language": "python",
   "name": "python3"
  },
  "language_info": {
   "codemirror_mode": {
    "name": "ipython",
    "version": 3
   },
   "file_extension": ".py",
   "mimetype": "text/x-python",
   "name": "python",
   "nbconvert_exporter": "python",
   "pygments_lexer": "ipython3",
   "version": "3.10.13"
  }
 },
 "nbformat": 4,
 "nbformat_minor": 5
}
